{
 "cells": [
  {
   "cell_type": "markdown",
   "id": "97338efe-c8ed-4053-9337-3e84df041ad0",
   "metadata": {},
   "source": [
    "## Install Libraries and Data"
   ]
  },
  {
   "cell_type": "code",
   "execution_count": 337,
   "id": "659ff400-564e-4d03-8994-f80d2a805889",
   "metadata": {
    "tags": []
   },
   "outputs": [],
   "source": [
    "# Install Libraries\n",
    "import pandas as pd\n",
    "import numpy as np \n",
    "import spacy \n",
    "from spacy import displacy\n",
    "NER = spacy.load('en_core_web_sm')\n",
    "import matplotlib.pyplot as plt\n",
    "import scipy \n",
    "import re"
   ]
  },
  {
   "cell_type": "code",
   "execution_count": 404,
   "id": "3e148e12-bf8d-4569-8829-a4fc378e7080",
   "metadata": {
    "tags": []
   },
   "outputs": [],
   "source": [
    "# Import Files\n",
    "with open('../Data/key_events_20th.txt', 'r', errors='ignore') as file:\n",
    "    data = file.read().replace('\\n', '') "
   ]
  },
  {
   "cell_type": "code",
   "execution_count": 406,
   "id": "118ef4dc-a9f7-47d0-8697-4c54222f7a32",
   "metadata": {
    "tags": []
   },
   "outputs": [],
   "source": [
    "countries = pd.read_csv(r'../Data/countries.csv', index_col=False)"
   ]
  },
  {
   "cell_type": "markdown",
   "id": "89fd52f0-d2c3-4891-bdec-ffe36745bc57",
   "metadata": {},
   "source": [
    "### Create NER Object"
   ]
  },
  {
   "cell_type": "code",
   "execution_count": 408,
   "id": "37ec4f41-490c-457a-a8d0-397ce3f113d5",
   "metadata": {
    "tags": []
   },
   "outputs": [],
   "source": [
    "# Create NER obj\n",
    "country = NER(data)"
   ]
  },
  {
   "cell_type": "code",
   "execution_count": 342,
   "id": "450311cc-2db4-459e-8508-ac3dc39a2e16",
   "metadata": {
    "tags": []
   },
   "outputs": [
    {
     "data": {
      "text/html": [
       "<span class=\"tex2jax_ignore\"><div class=\"entities\" style=\"line-height: 2.5; direction: ltr\">to sidebarhideFrom \n",
       "<mark class=\"entity\" style=\"background: #7aecec; padding: 0.45em 0.6em; margin: 0 0.25em; line-height: 1; border-radius: 0.35em;\">\n",
       "    Wikipedia\n",
       "    <span style=\"font-size: 0.8em; font-weight: bold; line-height: 1; border-radius: 0.35em; vertical-align: middle; margin-left: 0.5rem\">ORG</span>\n",
       "</mark>\n",
       ", the free \n",
       "<mark class=\"entity\" style=\"background: #bfe1d9; padding: 0.45em 0.6em; margin: 0 0.25em; line-height: 1; border-radius: 0.35em;\">\n",
       "    encyclopediaThe 20th century\n",
       "    <span style=\"font-size: 0.8em; font-weight: bold; line-height: 1; border-radius: 0.35em; vertical-align: middle; margin-left: 0.5rem\">DATE</span>\n",
       "</mark>\n",
       " changed the world in unprecedented ways. The World Wars sparked tension between countries and led to the creation of atomic bombs, \n",
       "<mark class=\"entity\" style=\"background: #ffeb80; padding: 0.45em 0.6em; margin: 0 0.25em; line-height: 1; border-radius: 0.35em;\">\n",
       "    the Cold War\n",
       "    <span style=\"font-size: 0.8em; font-weight: bold; line-height: 1; border-radius: 0.35em; vertical-align: middle; margin-left: 0.5rem\">EVENT</span>\n",
       "</mark>\n",
       " led to \n",
       "<mark class=\"entity\" style=\"background: #9cc9cc; padding: 0.45em 0.6em; margin: 0 0.25em; line-height: 1; border-radius: 0.35em;\">\n",
       "    the Space Race\n",
       "    <span style=\"font-size: 0.8em; font-weight: bold; line-height: 1; border-radius: 0.35em; vertical-align: middle; margin-left: 0.5rem\">FAC</span>\n",
       "</mark>\n",
       " and the creation of space-based rockets, and the World Wide Web was created. These advancements have played a significant role in citizens' lives and shaped \n",
       "<mark class=\"entity\" style=\"background: #bfe1d9; padding: 0.45em 0.6em; margin: 0 0.25em; line-height: 1; border-radius: 0.35em;\">\n",
       "    the 21st century\n",
       "    <span style=\"font-size: 0.8em; font-weight: bold; line-height: 1; border-radius: 0.35em; vertical-align: middle; margin-left: 0.5rem\">DATE</span>\n",
       "</mark>\n",
       " into what it is \n",
       "<mark class=\"entity\" style=\"background: #bfe1d9; padding: 0.45em 0.6em; margin: 0 0.25em; line-height: 1; border-radius: 0.35em;\">\n",
       "    today\n",
       "    <span style=\"font-size: 0.8em; font-weight: bold; line-height: 1; border-radius: 0.35em; vertical-align: middle; margin-left: 0.5rem\">DATE</span>\n",
       "</mark>\n",
       ".Historic events in \n",
       "<mark class=\"entity\" style=\"background: #bfe1d9; padding: 0.45em 0.6em; margin: 0 0.25em; line-height: 1; border-radius: 0.35em;\">\n",
       "    the 20th\n",
       "    <span style=\"font-size: 0.8em; font-weight: bold; line-height: 1; border-radius: 0.35em; vertical-align: middle; margin-left: 0.5rem\">DATE</span>\n",
       "</mark>\n",
       " century[edit]World at the beginning of the century[edit]Main article: \n",
       "<mark class=\"entity\" style=\"background: #c887fb; padding: 0.45em 0.6em; margin: 0 0.25em; line-height: 1; border-radius: 0.35em;\">\n",
       "    Edwardian\n",
       "    <span style=\"font-size: 0.8em; font-weight: bold; line-height: 1; border-radius: 0.35em; vertical-align: middle; margin-left: 0.5rem\">NORP</span>\n",
       "</mark>\n",
       " eraThe new beginning of \n",
       "<mark class=\"entity\" style=\"background: #bfe1d9; padding: 0.45em 0.6em; margin: 0 0.25em; line-height: 1; border-radius: 0.35em;\">\n",
       "    the 20th century\n",
       "    <span style=\"font-size: 0.8em; font-weight: bold; line-height: 1; border-radius: 0.35em; vertical-align: middle; margin-left: 0.5rem\">DATE</span>\n",
       "</mark>\n",
       " marked significant changes. \n",
       "<mark class=\"entity\" style=\"background: #bfe1d9; padding: 0.45em 0.6em; margin: 0 0.25em; line-height: 1; border-radius: 0.35em;\">\n",
       "    The 1900s\n",
       "    <span style=\"font-size: 0.8em; font-weight: bold; line-height: 1; border-radius: 0.35em; vertical-align: middle; margin-left: 0.5rem\">DATE</span>\n",
       "</mark>\n",
       " saw \n",
       "<mark class=\"entity\" style=\"background: #bfe1d9; padding: 0.45em 0.6em; margin: 0 0.25em; line-height: 1; border-radius: 0.35em;\">\n",
       "    the decade\n",
       "    <span style=\"font-size: 0.8em; font-weight: bold; line-height: 1; border-radius: 0.35em; vertical-align: middle; margin-left: 0.5rem\">DATE</span>\n",
       "</mark>\n",
       " herald a series of inventions, including the automobile, airplane and radio broadcasting.From \n",
       "<mark class=\"entity\" style=\"background: #bfe1d9; padding: 0.45em 0.6em; margin: 0 0.25em; line-height: 1; border-radius: 0.35em;\">\n",
       "    1914 to 1918\n",
       "    <span style=\"font-size: 0.8em; font-weight: bold; line-height: 1; border-radius: 0.35em; vertical-align: middle; margin-left: 0.5rem\">DATE</span>\n",
       "</mark>\n",
       ", \n",
       "<mark class=\"entity\" style=\"background: #ffeb80; padding: 0.45em 0.6em; margin: 0 0.25em; line-height: 1; border-radius: 0.35em;\">\n",
       "    the First World War\n",
       "    <span style=\"font-size: 0.8em; font-weight: bold; line-height: 1; border-radius: 0.35em; vertical-align: middle; margin-left: 0.5rem\">EVENT</span>\n",
       "</mark>\n",
       ", and its aftermath, caused major changes in the power balance of the world, destroying or transforming some of the most powerful empires.&quot;The war to end all wars&quot;: \n",
       "<mark class=\"entity\" style=\"background: #ffeb80; padding: 0.45em 0.6em; margin: 0 0.25em; line-height: 1; border-radius: 0.35em;\">\n",
       "    World War I\n",
       "    <span style=\"font-size: 0.8em; font-weight: bold; line-height: 1; border-radius: 0.35em; vertical-align: middle; margin-left: 0.5rem\">EVENT</span>\n",
       "</mark>\n",
       " (\n",
       "<mark class=\"entity\" style=\"background: #e4e7d2; padding: 0.45em 0.6em; margin: 0 0.25em; line-height: 1; border-radius: 0.35em;\">\n",
       "    1914–1918)[edit]Main\n",
       "    <span style=\"font-size: 0.8em; font-weight: bold; line-height: 1; border-radius: 0.35em; vertical-align: middle; margin-left: 0.5rem\">CARDINAL</span>\n",
       "</mark>\n",
       " article: \n",
       "<mark class=\"entity\" style=\"background: #ffeb80; padding: 0.45em 0.6em; margin: 0 0.25em; line-height: 1; border-radius: 0.35em;\">\n",
       "    World War IArrest\n",
       "    <span style=\"font-size: 0.8em; font-weight: bold; line-height: 1; border-radius: 0.35em; vertical-align: middle; margin-left: 0.5rem\">EVENT</span>\n",
       "</mark>\n",
       " of a suspect in \n",
       "<mark class=\"entity\" style=\"background: #feca74; padding: 0.45em 0.6em; margin: 0 0.25em; line-height: 1; border-radius: 0.35em;\">\n",
       "    Sarajevo\n",
       "    <span style=\"font-size: 0.8em; font-weight: bold; line-height: 1; border-radius: 0.35em; vertical-align: middle; margin-left: 0.5rem\">GPE</span>\n",
       "</mark>\n",
       " following \n",
       "<mark class=\"entity\" style=\"background: #9cc9cc; padding: 0.45em 0.6em; margin: 0 0.25em; line-height: 1; border-radius: 0.35em;\">\n",
       "    the Assassination of Archduke Franz FerdinandThe First World War\n",
       "    <span style=\"font-size: 0.8em; font-weight: bold; line-height: 1; border-radius: 0.35em; vertical-align: middle; margin-left: 0.5rem\">FAC</span>\n",
       "</mark>\n",
       " (or simply \n",
       "<mark class=\"entity\" style=\"background: #7aecec; padding: 0.45em 0.6em; margin: 0 0.25em; line-height: 1; border-radius: 0.35em;\">\n",
       "    WWI\n",
       "    <span style=\"font-size: 0.8em; font-weight: bold; line-height: 1; border-radius: 0.35em; vertical-align: middle; margin-left: 0.5rem\">ORG</span>\n",
       "</mark>\n",
       "), termed </div></span>"
      ],
      "text/plain": [
       "<IPython.core.display.HTML object>"
      ]
     },
     "metadata": {},
     "output_type": "display_data"
    }
   ],
   "source": [
    "# Visualise sample entity\n",
    "displacy.render(country[200:400], style='ent', jupyter=True)"
   ]
  },
  {
   "cell_type": "markdown",
   "id": "5532377a-12ed-4625-931e-ecc59c04c953",
   "metadata": {},
   "source": [
    "### Split Sentence Entities"
   ]
  },
  {
   "cell_type": "code",
   "execution_count": 409,
   "id": "6762f037-e00d-4168-930d-cf0dd118f435",
   "metadata": {
    "tags": []
   },
   "outputs": [],
   "source": [
    "# Create list with sentences\n",
    "sentence = [] # Create empty list\n",
    "\n",
    "# Loop sentences\n",
    "for sent in country.sents:\n",
    "    entity_list = [ent.text for ent in sent.ents]\n",
    "    sentence.append({'sentence':sent, 'entity':entity_list})"
   ]
  },
  {
   "cell_type": "code",
   "execution_count": 411,
   "id": "5c45c871-b5e2-41d0-a6e1-08149de9acc5",
   "metadata": {
    "tags": []
   },
   "outputs": [],
   "source": [
    "# Create dataframe\n",
    "sentence = pd.DataFrame(sentence)"
   ]
  },
  {
   "cell_type": "code",
   "execution_count": 349,
   "id": "93328e8d-80af-416b-9230-12d360797fb7",
   "metadata": {
    "tags": []
   },
   "outputs": [
    {
     "data": {
      "text/html": [
       "<div>\n",
       "<style scoped>\n",
       "    .dataframe tbody tr th:only-of-type {\n",
       "        vertical-align: middle;\n",
       "    }\n",
       "\n",
       "    .dataframe tbody tr th {\n",
       "        vertical-align: top;\n",
       "    }\n",
       "\n",
       "    .dataframe thead th {\n",
       "        text-align: right;\n",
       "    }\n",
       "</style>\n",
       "<table border=\"1\" class=\"dataframe\">\n",
       "  <thead>\n",
       "    <tr style=\"text-align: right;\">\n",
       "      <th></th>\n",
       "      <th>sentence</th>\n",
       "      <th>entity</th>\n",
       "    </tr>\n",
       "  </thead>\n",
       "  <tbody>\n",
       "    <tr>\n",
       "      <th>0</th>\n",
       "      <td>(Key, events, of, the, 20th, century, -, Wikip...</td>\n",
       "      <td>[the 20th century - WikipediaJump, Contribute,...</td>\n",
       "    </tr>\n",
       "    <tr>\n",
       "      <th>1</th>\n",
       "      <td>(depression1.2.2The, rise, of, dictatorship1.3...</td>\n",
       "      <td>[World War II, Pacific1.3.7.1Background1.3.8Ja...</td>\n",
       "    </tr>\n",
       "    <tr>\n",
       "      <th>2</th>\n",
       "      <td>(begins1.4The, post, -, war, world1.4.1The, en...</td>\n",
       "      <td>[Cold War, 1947–1991)1.4.3War]</td>\n",
       "    </tr>\n",
       "    <tr>\n",
       "      <th>3</th>\n",
       "      <td>(race1.4.5The, end, of, the, Cold, War1.4.6Inf...</td>\n",
       "      <td>[the Cold War1.4.6Information, 20th, pageGet, ...</td>\n",
       "    </tr>\n",
       "    <tr>\n",
       "      <th>4</th>\n",
       "      <td>(The, World, Wars, sparked, tension, between, ...</td>\n",
       "      <td>[the Cold War, the Space Race]</td>\n",
       "    </tr>\n",
       "    <tr>\n",
       "      <th>5</th>\n",
       "      <td>(These, advancements, have, played, a, signifi...</td>\n",
       "      <td>[the 21st century, today]</td>\n",
       "    </tr>\n",
       "    <tr>\n",
       "      <th>6</th>\n",
       "      <td>(Historic, events, in, the, 20th, century[edit...</td>\n",
       "      <td>[the 20th]</td>\n",
       "    </tr>\n",
       "    <tr>\n",
       "      <th>7</th>\n",
       "      <td>(Edwardian, eraThe, new, beginning, of, the, 2...</td>\n",
       "      <td>[Edwardian, the 20th century]</td>\n",
       "    </tr>\n",
       "    <tr>\n",
       "      <th>8</th>\n",
       "      <td>(The, 1900s, saw, the, decade, herald, a, seri...</td>\n",
       "      <td>[The 1900s, the decade]</td>\n",
       "    </tr>\n",
       "    <tr>\n",
       "      <th>9</th>\n",
       "      <td>(From, 1914, to, 1918, ,, the, First, World, W...</td>\n",
       "      <td>[1914 to 1918, the First World War]</td>\n",
       "    </tr>\n",
       "  </tbody>\n",
       "</table>\n",
       "</div>"
      ],
      "text/plain": [
       "                                            sentence  \\\n",
       "0  (Key, events, of, the, 20th, century, -, Wikip...   \n",
       "1  (depression1.2.2The, rise, of, dictatorship1.3...   \n",
       "2  (begins1.4The, post, -, war, world1.4.1The, en...   \n",
       "3  (race1.4.5The, end, of, the, Cold, War1.4.6Inf...   \n",
       "4  (The, World, Wars, sparked, tension, between, ...   \n",
       "5  (These, advancements, have, played, a, signifi...   \n",
       "6  (Historic, events, in, the, 20th, century[edit...   \n",
       "7  (Edwardian, eraThe, new, beginning, of, the, 2...   \n",
       "8  (The, 1900s, saw, the, decade, herald, a, seri...   \n",
       "9  (From, 1914, to, 1918, ,, the, First, World, W...   \n",
       "\n",
       "                                              entity  \n",
       "0  [the 20th century - WikipediaJump, Contribute,...  \n",
       "1  [World War II, Pacific1.3.7.1Background1.3.8Ja...  \n",
       "2                     [Cold War, 1947–1991)1.4.3War]  \n",
       "3  [the Cold War1.4.6Information, 20th, pageGet, ...  \n",
       "4                     [the Cold War, the Space Race]  \n",
       "5                          [the 21st century, today]  \n",
       "6                                         [the 20th]  \n",
       "7                      [Edwardian, the 20th century]  \n",
       "8                            [The 1900s, the decade]  \n",
       "9                [1914 to 1918, the First World War]  "
      ]
     },
     "execution_count": 349,
     "metadata": {},
     "output_type": "execute_result"
    }
   ],
   "source": [
    "# Check dataframe\n",
    "sentence.head(10)"
   ]
  },
  {
   "cell_type": "code",
   "execution_count": 414,
   "id": "1d215cda-a425-4811-b31c-12938c675f4c",
   "metadata": {
    "tags": []
   },
   "outputs": [],
   "source": [
    "# Filter using country list\n",
    "def filter_entity(ent_list, countries):\n",
    "    return[ent for ent in ent_list\n",
    "          if ent in list(countries['country_name'])]"
   ]
  },
  {
   "cell_type": "code",
   "execution_count": 416,
   "id": "26ade042-41f8-4f84-adf3-36434ea7f7a0",
   "metadata": {
    "tags": []
   },
   "outputs": [],
   "source": [
    "# Apply filter\n",
    "sentence['c_entities'] = sentence['entity'].apply(lambda x: filter_entity(x, countries))"
   ]
  },
  {
   "cell_type": "code",
   "execution_count": 418,
   "id": "c8fd97b9-218b-47b3-8377-85da89bd29c9",
   "metadata": {
    "tags": []
   },
   "outputs": [],
   "source": [
    "# Filter out sentences without countries\n",
    "sentence_filter = sentence[sentence['c_entities'].map(len)>0]"
   ]
  },
  {
   "cell_type": "code",
   "execution_count": 369,
   "id": "77bef9e6-c810-41ee-998a-f2b104270fc6",
   "metadata": {
    "tags": []
   },
   "outputs": [
    {
     "data": {
      "text/html": [
       "<div>\n",
       "<style scoped>\n",
       "    .dataframe tbody tr th:only-of-type {\n",
       "        vertical-align: middle;\n",
       "    }\n",
       "\n",
       "    .dataframe tbody tr th {\n",
       "        vertical-align: top;\n",
       "    }\n",
       "\n",
       "    .dataframe thead th {\n",
       "        text-align: right;\n",
       "    }\n",
       "</style>\n",
       "<table border=\"1\" class=\"dataframe\">\n",
       "  <thead>\n",
       "    <tr style=\"text-align: right;\">\n",
       "      <th></th>\n",
       "      <th>sentence</th>\n",
       "      <th>entity</th>\n",
       "      <th>c_entities</th>\n",
       "    </tr>\n",
       "  </thead>\n",
       "  <tbody>\n",
       "    <tr>\n",
       "      <th>14</th>\n",
       "      <td>(Interwoven, alliances, ,, an, increasing, arm...</td>\n",
       "      <td>[Europe, Allies, The Triple Entente, British E...</td>\n",
       "      <td>[France, Russia]</td>\n",
       "    </tr>\n",
       "    <tr>\n",
       "      <th>15</th>\n",
       "      <td>(Germany, ,, Austria, -, Hungary, ,, Bulgaria,...</td>\n",
       "      <td>[Germany, Austria, Hungary, Bulgaria, the Otto...</td>\n",
       "      <td>[Germany, Austria, Hungary, Bulgaria, Russia]</td>\n",
       "    </tr>\n",
       "    <tr>\n",
       "      <th>16</th>\n",
       "      <td>(The, Bolsheviks, negotiated, the, Treaty, of,...</td>\n",
       "      <td>[the Treaty of Brest-Litovsk, Germany, Russia]</td>\n",
       "      <td>[Germany, Russia]</td>\n",
       "    </tr>\n",
       "    <tr>\n",
       "      <th>17</th>\n",
       "      <td>(In, the, treaty, ,, Bolshevik, Russia, ceded,...</td>\n",
       "      <td>[Bolshevik Russia, Baltic, Germany, Kars Oblas...</td>\n",
       "      <td>[Germany]</td>\n",
       "    </tr>\n",
       "    <tr>\n",
       "      <th>18</th>\n",
       "      <td>(It, also, recognized, the, independence, of, ...</td>\n",
       "      <td>[Germany, Allied, American]</td>\n",
       "      <td>[Germany]</td>\n",
       "    </tr>\n",
       "    <tr>\n",
       "      <th>24</th>\n",
       "      <td>(Many, Germans, felt, these, reparations, were...</td>\n",
       "      <td>[Germans, Germany, Allied, Kaiser, Europe]</td>\n",
       "      <td>[Germany]</td>\n",
       "    </tr>\n",
       "    <tr>\n",
       "      <th>41</th>\n",
       "      <td>(Germany, ,, 1933Fascism, first, appeared, in,...</td>\n",
       "      <td>[Germany, first, Italy, Benito Mussolini]</td>\n",
       "      <td>[Germany, Italy]</td>\n",
       "    </tr>\n",
       "    <tr>\n",
       "      <th>42</th>\n",
       "      <td>(The, ideology, was, supported, by, a, large, ...</td>\n",
       "      <td>[Adolf Hitler, Germany, 1933, Nazism, Germany,...</td>\n",
       "      <td>[Germany, Germany]</td>\n",
       "    </tr>\n",
       "    <tr>\n",
       "      <th>43</th>\n",
       "      <td>(The, Nazi, Party, in, Germany, was, dedicated...</td>\n",
       "      <td>[The Nazi Party, Germany, German, German, Cent...</td>\n",
       "      <td>[Germany, Germany]</td>\n",
       "    </tr>\n",
       "    <tr>\n",
       "      <th>44</th>\n",
       "      <td>(Antisemitism, during, the, Great, Depression,...</td>\n",
       "      <td>[the Great Depression, Jews, Austria, Anschlus...</td>\n",
       "      <td>[Austria, Austria, Germany]</td>\n",
       "    </tr>\n",
       "  </tbody>\n",
       "</table>\n",
       "</div>"
      ],
      "text/plain": [
       "                                             sentence  \\\n",
       "14  (Interwoven, alliances, ,, an, increasing, arm...   \n",
       "15  (Germany, ,, Austria, -, Hungary, ,, Bulgaria,...   \n",
       "16  (The, Bolsheviks, negotiated, the, Treaty, of,...   \n",
       "17  (In, the, treaty, ,, Bolshevik, Russia, ceded,...   \n",
       "18  (It, also, recognized, the, independence, of, ...   \n",
       "24  (Many, Germans, felt, these, reparations, were...   \n",
       "41  (Germany, ,, 1933Fascism, first, appeared, in,...   \n",
       "42  (The, ideology, was, supported, by, a, large, ...   \n",
       "43  (The, Nazi, Party, in, Germany, was, dedicated...   \n",
       "44  (Antisemitism, during, the, Great, Depression,...   \n",
       "\n",
       "                                               entity  \\\n",
       "14  [Europe, Allies, The Triple Entente, British E...   \n",
       "15  [Germany, Austria, Hungary, Bulgaria, the Otto...   \n",
       "16     [the Treaty of Brest-Litovsk, Germany, Russia]   \n",
       "17  [Bolshevik Russia, Baltic, Germany, Kars Oblas...   \n",
       "18                        [Germany, Allied, American]   \n",
       "24         [Germans, Germany, Allied, Kaiser, Europe]   \n",
       "41          [Germany, first, Italy, Benito Mussolini]   \n",
       "42  [Adolf Hitler, Germany, 1933, Nazism, Germany,...   \n",
       "43  [The Nazi Party, Germany, German, German, Cent...   \n",
       "44  [the Great Depression, Jews, Austria, Anschlus...   \n",
       "\n",
       "                                       c_entities  \n",
       "14                               [France, Russia]  \n",
       "15  [Germany, Austria, Hungary, Bulgaria, Russia]  \n",
       "16                              [Germany, Russia]  \n",
       "17                                      [Germany]  \n",
       "18                                      [Germany]  \n",
       "24                                      [Germany]  \n",
       "41                               [Germany, Italy]  \n",
       "42                             [Germany, Germany]  \n",
       "43                             [Germany, Germany]  \n",
       "44                    [Austria, Austria, Germany]  "
      ]
     },
     "execution_count": 369,
     "metadata": {},
     "output_type": "execute_result"
    }
   ],
   "source": [
    "sentence_filter.head(10)"
   ]
  },
  {
   "cell_type": "markdown",
   "id": "db83500a-4bfc-413c-a8dc-47b0f63cdfb5",
   "metadata": {},
   "source": [
    "### Create Relationships"
   ]
  },
  {
   "cell_type": "code",
   "execution_count": 420,
   "id": "cf4d5f3f-47aa-4c3b-a9ce-9cea0aaf4fdd",
   "metadata": {
    "tags": []
   },
   "outputs": [],
   "source": [
    "# Define window size and initialize relationships list\n",
    "window_size = 5  # This defines how many sentences will be looked at simultaneously\n",
    "relationships = []  # Create an empty list to store relationships\n",
    "\n",
    "for i in range(sentence_filter.index[-1]):\n",
    "    # Calculate the end index based on the window size\n",
    "    end_i = min(i + window_size, sentence_filter.index[-1])\n",
    "    \n",
    "    # Create a combined list of character entities within the window range\n",
    "    char_list = sum((sentence_filter.loc[i:end_i, 'c_entities']), [])\n",
    "\n",
    "    # Remove duplicated characters that are next to each other\n",
    "    char_unique = [char_list[j] for j in range(len(char_list)) if (j == 0) or char_list[j] != char_list[j - 1]]\n",
    "\n",
    "    # Append relationships if there is more than one unique character\n",
    "    if len(char_unique) > 1:\n",
    "        for idx, a in enumerate(char_unique[:-1]):\n",
    "            b = char_unique[idx + 1]\n",
    "            relationships.append({\"source\": a, \"target\": b})"
   ]
  },
  {
   "cell_type": "code",
   "execution_count": 422,
   "id": "2cab28ce-cfe8-4faa-bae4-8bf258f73884",
   "metadata": {
    "tags": []
   },
   "outputs": [],
   "source": [
    "# Create dataframe\n",
    "relationships = pd.DataFrame(relationships)"
   ]
  },
  {
   "cell_type": "code",
   "execution_count": 424,
   "id": "2d152643-e89e-4ca5-b783-e91e99fb91a8",
   "metadata": {
    "tags": []
   },
   "outputs": [],
   "source": [
    "# Sort the cases with a- >b and b- >a\n",
    "relationships = pd.DataFrame(np.sort(relationships.values, axis = 1), columns = relationships.columns)"
   ]
  },
  {
   "cell_type": "code",
   "execution_count": 426,
   "id": "be4db850-aff3-443d-b374-81cf403f538e",
   "metadata": {
    "tags": []
   },
   "outputs": [
    {
     "data": {
      "text/html": [
       "<div>\n",
       "<style scoped>\n",
       "    .dataframe tbody tr th:only-of-type {\n",
       "        vertical-align: middle;\n",
       "    }\n",
       "\n",
       "    .dataframe tbody tr th {\n",
       "        vertical-align: top;\n",
       "    }\n",
       "\n",
       "    .dataframe thead th {\n",
       "        text-align: right;\n",
       "    }\n",
       "</style>\n",
       "<table border=\"1\" class=\"dataframe\">\n",
       "  <thead>\n",
       "    <tr style=\"text-align: right;\">\n",
       "      <th></th>\n",
       "      <th>source</th>\n",
       "      <th>target</th>\n",
       "    </tr>\n",
       "  </thead>\n",
       "  <tbody>\n",
       "    <tr>\n",
       "      <th>0</th>\n",
       "      <td>France</td>\n",
       "      <td>Russia</td>\n",
       "    </tr>\n",
       "    <tr>\n",
       "      <th>1</th>\n",
       "      <td>France</td>\n",
       "      <td>Russia</td>\n",
       "    </tr>\n",
       "    <tr>\n",
       "      <th>2</th>\n",
       "      <td>Germany</td>\n",
       "      <td>Russia</td>\n",
       "    </tr>\n",
       "    <tr>\n",
       "      <th>3</th>\n",
       "      <td>Austria</td>\n",
       "      <td>Germany</td>\n",
       "    </tr>\n",
       "    <tr>\n",
       "      <th>4</th>\n",
       "      <td>Austria</td>\n",
       "      <td>Hungary</td>\n",
       "    </tr>\n",
       "  </tbody>\n",
       "</table>\n",
       "</div>"
      ],
      "text/plain": [
       "    source   target\n",
       "0   France   Russia\n",
       "1   France   Russia\n",
       "2  Germany   Russia\n",
       "3  Austria  Germany\n",
       "4  Austria  Hungary"
      ]
     },
     "execution_count": 426,
     "metadata": {},
     "output_type": "execute_result"
    }
   ],
   "source": [
    "# Check relationships dataframe\n",
    "relationships.head(5)"
   ]
  },
  {
   "cell_type": "code",
   "execution_count": 428,
   "id": "2b92d3ea-f1ee-4d6a-8445-267b8acb0209",
   "metadata": {
    "tags": []
   },
   "outputs": [],
   "source": [
    "# Add value col.\n",
    "relationships[\"value\"] = 1\n",
    "relationships = relationships.groupby([\"source\",\"target\"], sort=False, as_index=False).sum()"
   ]
  },
  {
   "cell_type": "code",
   "execution_count": 430,
   "id": "1cf1583c-cda6-413b-97b9-ddeffc39c2da",
   "metadata": {
    "tags": []
   },
   "outputs": [
    {
     "data": {
      "text/html": [
       "<div>\n",
       "<style scoped>\n",
       "    .dataframe tbody tr th:only-of-type {\n",
       "        vertical-align: middle;\n",
       "    }\n",
       "\n",
       "    .dataframe tbody tr th {\n",
       "        vertical-align: top;\n",
       "    }\n",
       "\n",
       "    .dataframe thead th {\n",
       "        text-align: right;\n",
       "    }\n",
       "</style>\n",
       "<table border=\"1\" class=\"dataframe\">\n",
       "  <thead>\n",
       "    <tr style=\"text-align: right;\">\n",
       "      <th></th>\n",
       "      <th>source</th>\n",
       "      <th>target</th>\n",
       "      <th>value</th>\n",
       "    </tr>\n",
       "  </thead>\n",
       "  <tbody>\n",
       "    <tr>\n",
       "      <th>0</th>\n",
       "      <td>France</td>\n",
       "      <td>Russia</td>\n",
       "      <td>12</td>\n",
       "    </tr>\n",
       "    <tr>\n",
       "      <th>1</th>\n",
       "      <td>Germany</td>\n",
       "      <td>Russia</td>\n",
       "      <td>26</td>\n",
       "    </tr>\n",
       "    <tr>\n",
       "      <th>2</th>\n",
       "      <td>Austria</td>\n",
       "      <td>Germany</td>\n",
       "      <td>17</td>\n",
       "    </tr>\n",
       "    <tr>\n",
       "      <th>3</th>\n",
       "      <td>Austria</td>\n",
       "      <td>Hungary</td>\n",
       "      <td>6</td>\n",
       "    </tr>\n",
       "    <tr>\n",
       "      <th>4</th>\n",
       "      <td>Bulgaria</td>\n",
       "      <td>Hungary</td>\n",
       "      <td>6</td>\n",
       "    </tr>\n",
       "  </tbody>\n",
       "</table>\n",
       "</div>"
      ],
      "text/plain": [
       "     source   target  value\n",
       "0    France   Russia     12\n",
       "1   Germany   Russia     26\n",
       "2   Austria  Germany     17\n",
       "3   Austria  Hungary      6\n",
       "4  Bulgaria  Hungary      6"
      ]
     },
     "execution_count": 430,
     "metadata": {},
     "output_type": "execute_result"
    }
   ],
   "source": [
    "# Check relationships database with new col. \n",
    "relationships.head(5)"
   ]
  },
  {
   "cell_type": "markdown",
   "id": "c9d81395-948b-4e05-90c2-b040a788f411",
   "metadata": {},
   "source": [
    "## Export File"
   ]
  },
  {
   "cell_type": "code",
   "execution_count": 433,
   "id": "8cbda0eb-4d2c-4971-b20f-726377611f87",
   "metadata": {
    "tags": []
   },
   "outputs": [],
   "source": [
    "# Export dataframe\n",
    "relationships.to_pickle(r'../Data/relationships.pkl')"
   ]
  },
  {
   "cell_type": "code",
   "execution_count": null,
   "id": "6eed46b4-f6c9-4884-9312-ad4a6030bafa",
   "metadata": {},
   "outputs": [],
   "source": []
  }
 ],
 "metadata": {
  "kernelspec": {
   "display_name": "Python [conda env:venv_20th]",
   "language": "python",
   "name": "conda-env-venv_20th-py"
  },
  "language_info": {
   "codemirror_mode": {
    "name": "ipython",
    "version": 3
   },
   "file_extension": ".py",
   "mimetype": "text/x-python",
   "name": "python",
   "nbconvert_exporter": "python",
   "pygments_lexer": "ipython3",
   "version": "3.10.15"
  }
 },
 "nbformat": 4,
 "nbformat_minor": 5
}
