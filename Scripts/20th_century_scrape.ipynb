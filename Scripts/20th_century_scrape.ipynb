{
 "cells": [
  {
   "cell_type": "markdown",
   "id": "c95944cc-c6de-4e30-8414-9e6d988c5f52",
   "metadata": {},
   "source": [
    "## Install Libraries"
   ]
  },
  {
   "cell_type": "code",
   "execution_count": 2,
   "id": "65f67ea1-3374-49f7-af78-d4523444e1df",
   "metadata": {
    "tags": []
   },
   "outputs": [],
   "source": [
    "# Install Libraries\n",
    "from bs4 import BeautifulSoup\n",
    "import requests"
   ]
  },
  {
   "cell_type": "markdown",
   "id": "eb799e48-05b9-471f-90f5-5fa7f7cda180",
   "metadata": {
    "tags": []
   },
   "source": [
    "## Web Scraping "
   ]
  },
  {
   "cell_type": "code",
   "execution_count": 9,
   "id": "f30a55b8-c871-45c2-b688-939e1131613e",
   "metadata": {
    "tags": []
   },
   "outputs": [],
   "source": [
    "# Get URL \n",
    "page_url = requests.get(\"https://en.wikipedia.org/wiki/Key_events_of_the_20th_century\")"
   ]
  },
  {
   "cell_type": "code",
   "execution_count": 13,
   "id": "019e4a17-6ae3-4eb8-85a0-6af7a63f9b57",
   "metadata": {
    "tags": []
   },
   "outputs": [
    {
     "name": "stdout",
     "output_type": "stream",
     "text": [
      "<title>Key events of the 20th century - Wikipedia</title>\n"
     ]
    }
   ],
   "source": [
    "## Create soup and get title\n",
    "soup = BeautifulSoup(page_url.text, 'html.parser')\n",
    "print(soup.title) "
   ]
  },
  {
   "cell_type": "code",
   "execution_count": 15,
   "id": "b0a19a14-b244-40b4-9154-d531e32bfd2b",
   "metadata": {
    "tags": []
   },
   "outputs": [],
   "source": [
    "# Create text object\n",
    "text = soup.get_text()"
   ]
  },
  {
   "cell_type": "code",
   "execution_count": 17,
   "id": "1690e75c-4fa4-42c4-825e-74687ca0e18c",
   "metadata": {
    "tags": []
   },
   "outputs": [],
   "source": [
    "# Encode text\n",
    "text = text.encode('utf-8')"
   ]
  },
  {
   "cell_type": "code",
   "execution_count": 19,
   "id": "639426dc-2286-4491-bd9a-b0b0221f88f6",
   "metadata": {
    "tags": []
   },
   "outputs": [],
   "source": [
    "# Save file\n",
    "with open('Key_events_of_the_20th_century_-_Wikipedia.txt', 'wb') as f:\n",
    "       f.write(text)"
   ]
  },
  {
   "cell_type": "code",
   "execution_count": null,
   "id": "84b180cf-3af4-4b13-bc1e-9b646d0e9fe1",
   "metadata": {},
   "outputs": [],
   "source": []
  }
 ],
 "metadata": {
  "kernelspec": {
   "display_name": "Python [conda env:venv_20th_century]",
   "language": "python",
   "name": "conda-env-venv_20th_century-py"
  },
  "language_info": {
   "codemirror_mode": {
    "name": "ipython",
    "version": 3
   },
   "file_extension": ".py",
   "mimetype": "text/x-python",
   "name": "python",
   "nbconvert_exporter": "python",
   "pygments_lexer": "ipython3",
   "version": "3.13.0"
  }
 },
 "nbformat": 4,
 "nbformat_minor": 5
}
