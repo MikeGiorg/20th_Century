{
 "cells": [
  {
   "cell_type": "markdown",
   "id": "b2aad349-3f1e-400d-a8e6-f70dea7500b5",
   "metadata": {},
   "source": [
    "Notebook added to Repository"
   ]
  },
  {
   "cell_type": "code",
   "execution_count": null,
   "id": "afd44581-d9d7-4d08-80b0-67cee1dc470e",
   "metadata": {},
   "outputs": [],
   "source": []
  }
 ],
 "metadata": {
  "kernelspec": {
   "display_name": "Python 3 (ipykernel)",
   "language": "python",
   "name": "python3"
  },
  "language_info": {
   "codemirror_mode": {
    "name": "ipython",
    "version": 3
   },
   "file_extension": ".py",
   "mimetype": "text/x-python",
   "name": "python",
   "nbconvert_exporter": "python",
   "pygments_lexer": "ipython3",
   "version": "3.11.8"
  }
 },
 "nbformat": 4,
 "nbformat_minor": 5
}
