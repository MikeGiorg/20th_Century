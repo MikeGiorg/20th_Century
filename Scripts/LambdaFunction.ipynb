{
 "cells": [
  {
   "cell_type": "markdown",
   "id": "adafa0a8-1d03-4452-8d50-9a8b2a65b9e1",
   "metadata": {},
   "source": [
    "## Import Libraries"
   ]
  },
  {
   "cell_type": "code",
   "execution_count": 4,
   "id": "c05e0d72-d97a-460a-b999-557889540d3d",
   "metadata": {
    "tags": []
   },
   "outputs": [],
   "source": [
    "# Import libraries\n",
    "import pandas as pd\n",
    "import numpy as np \n",
    "import os"
   ]
  },
  {
   "cell_type": "markdown",
   "id": "ec18d6b2-4b13-4a3e-a7c6-e0f520b3be6a",
   "metadata": {},
   "source": [
    "## Create Dataframe"
   ]
  },
  {
   "cell_type": "code",
   "execution_count": 26,
   "id": "0fb46cc2-7fcf-4e9c-8ca5-a361965e634a",
   "metadata": {
    "tags": []
   },
   "outputs": [],
   "source": [
    "# New Dataframe\n",
    "netflix = pd.DataFrame({'Rank':[1,2,3,4,5,6,7,8,9,10], 'Title':['Bridgerton', 'Fool Me Once', 'Queen of Tears', 'Avatar The Last Airbender', 'The Gentlemen', '3 Body Problem', 'Griselda', 'Baby Reindeer', 'Berlin', 'Bridgerton'], 'Season':['Season 3', 'Limited', 'Limited', 'Season 1', 'Season 1', 'Season 1', 'Limited', 'Limited', 'Season 1', 'Season 1'], 'Hours_Watched':[733800000, 689500000, 68260000, 515300000, 507300000, 388100000, 383000000, 347600000, 318400000, 314500000]})"
   ]
  },
  {
   "cell_type": "markdown",
   "id": "8a1d1b1d-c70f-4238-aa29-a1dd43f4ca82",
   "metadata": {},
   "source": [
    "## Practise Functions"
   ]
  },
  {
   "cell_type": "code",
   "execution_count": 18,
   "id": "b5568f0b-1039-48ba-8efb-296bc7b2514c",
   "metadata": {
    "tags": []
   },
   "outputs": [
    {
     "data": {
      "text/plain": [
       "(10, 4)"
      ]
     },
     "execution_count": 18,
     "metadata": {},
     "output_type": "execute_result"
    }
   ],
   "source": [
    "# Preliminary check of df\n",
    "netflix.shape"
   ]
  },
  {
   "cell_type": "code",
   "execution_count": 24,
   "id": "e7a88719-f8b3-4271-9edd-77e4bbf21907",
   "metadata": {
    "tags": []
   },
   "outputs": [],
   "source": [
    "# Define Lambda function for math. calculation\n",
    "days = lambda x: x/24"
   ]
  },
  {
   "cell_type": "code",
   "execution_count": 30,
   "id": "07e3ef2d-1cbb-4c73-a7bd-ee8bfc3120b9",
   "metadata": {
    "tags": []
   },
   "outputs": [],
   "source": [
    "netflix['Days_Watched'] = days(netflix['Hours_Watched'])"
   ]
  },
  {
   "cell_type": "code",
   "execution_count": 36,
   "id": "958c17e3-bc51-4095-a634-f2a67eae14a9",
   "metadata": {
    "tags": []
   },
   "outputs": [
    {
     "data": {
      "text/plain": [
       "Days_Watched\n",
       "3.057500e+07    1\n",
       "2.872917e+07    1\n",
       "2.844167e+06    1\n",
       "2.147083e+07    1\n",
       "2.113750e+07    1\n",
       "1.617083e+07    1\n",
       "1.595833e+07    1\n",
       "1.448333e+07    1\n",
       "1.326667e+07    1\n",
       "1.310417e+07    1\n",
       "Name: count, dtype: int64"
      ]
     },
     "execution_count": 36,
     "metadata": {},
     "output_type": "execute_result"
    }
   ],
   "source": [
    "# Check the new column\n",
    "netflix['Days_Watched'].value_counts()"
   ]
  },
  {
   "cell_type": "code",
   "execution_count": 44,
   "id": "0ca00265-6458-4c8f-a568-ed383f3423b5",
   "metadata": {
    "tags": []
   },
   "outputs": [],
   "source": [
    "# Flag Status using Lambda function\n",
    "netflix['Status'] = netflix['Season'].apply(lambda x: 'Ended' if x=='Limited' else ('Renewed' if x=='Season 1' else 'Renewed'))"
   ]
  },
  {
   "cell_type": "code",
   "execution_count": 46,
   "id": "2b9b5cda-ff0a-47b4-9049-4494a4a3bedb",
   "metadata": {
    "tags": []
   },
   "outputs": [
    {
     "data": {
      "text/plain": [
       "Status\n",
       "Renewed    6\n",
       "Ended      4\n",
       "Name: count, dtype: int64"
      ]
     },
     "execution_count": 46,
     "metadata": {},
     "output_type": "execute_result"
    }
   ],
   "source": [
    "# Check the new column\n",
    "netflix['Status'].value_counts()"
   ]
  },
  {
   "cell_type": "code",
   "execution_count": null,
   "id": "34700968-e228-48e0-b9bf-0e476dbc1a83",
   "metadata": {},
   "outputs": [],
   "source": []
  }
 ],
 "metadata": {
  "kernelspec": {
   "display_name": "Python [conda env:venv_20th_century]",
   "language": "python",
   "name": "conda-env-venv_20th_century-py"
  },
  "language_info": {
   "codemirror_mode": {
    "name": "ipython",
    "version": 3
   },
   "file_extension": ".py",
   "mimetype": "text/x-python",
   "name": "python",
   "nbconvert_exporter": "python",
   "pygments_lexer": "ipython3",
   "version": "3.13.0"
  }
 },
 "nbformat": 4,
 "nbformat_minor": 5
}
